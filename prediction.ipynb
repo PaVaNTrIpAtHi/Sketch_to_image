{
 "cells": [
  {
   "cell_type": "code",
   "execution_count": 12,
   "id": "36e0c26a",
   "metadata": {},
   "outputs": [
    {
     "name": "stdout",
     "output_type": "stream",
     "text": [
      "1/1 [==============================] - 1s 791ms/step\n",
      "[[7.5599973e-26 1.4692949e-26 9.5129502e-24 5.5066052e-21 4.6001732e-19\n",
      "  1.2082210e-01 1.0711499e-06 2.3447677e-18 8.7917686e-01 9.5398191e-21]]\n",
      "figure is of  book\n",
      "book\n",
      "objects/book/book6.jpg\n"
     ]
    }
   ],
   "source": [
    "from tensorflow.keras.preprocessing.image import load_img\n",
    "from tensorflow.keras.preprocessing.image import img_to_array\n",
    "from keras.applications.vgg16 import preprocess_input\n",
    "from keras.applications.vgg16 import decode_predictions\n",
    "from keras.applications.vgg16 import VGG16\n",
    "import cv2\n",
    "import numpy as np\n",
    "from keras.models import load_model\n",
    "import random\n",
    "\n",
    "# load model\n",
    "model = load_model('10class_v1.h5')\n",
    "# load an image from file\n",
    "\n",
    "# path =r'small2_v1\\test\\airplane\\1.png'\n",
    "# path = r\"small2_v1\\test\\ant\\241.png\"\n",
    "# path = r\"small2_v1\\test\\apple\\322.png\"\n",
    "# path =r'small2_v1\\test\\banana\\805.png'\n",
    "# path = r\"small2_v1\\test\\bed\\1285.png\"\n",
    "# path = r\"small2_v1\\test\\bench\\1604.png\"\n",
    "# path = r\"small2_v1\\test\\bicycle\\1683.png\"\n",
    "path = r\"small2_v1\\test\\book\\1928.png\"\n",
    "# path = r\"small2_v1\\test\\bus\\2645.png\"\n",
    "# path = r\"small\\test\\apple\\394.png\"\n",
    "\n",
    "\n",
    "a = cv2.imread(path)\n",
    "# half = cv2.resize(a, (0, 0), fx = 0.1, fy = 0.1)\n",
    "# cv2.imshow(\"test\",a)\n",
    "b = cv2.resize(a, (500, 400)) \n",
    "cv2.imshow(\"test\",b)\n",
    "image = load_img(path, target_size=(224, 224))\n",
    "# cv2.imshow(\"test\",image)\n",
    "# convert the image pixels to a numpy array\n",
    "image = img_to_array(image)\n",
    "# reshape data for the model\n",
    "image = image.reshape((1, image.shape[0], image.shape[1], image.shape[2]))\n",
    "# prepare the image for the VGG model\n",
    "image = preprocess_input(image)\n",
    "# predict the probability across all output classes\n",
    "yhat = model.predict(image)\n",
    "print(yhat)\n",
    "classes = [\"airplane\",\"ant\",\"apple\",\"axe\", \"banana\", \"bed\", \"bench\", \"bicycle\",\"book\", \"bus\"]\n",
    "pred = np.argmax(yhat)\n",
    "print(\"figure is of \",classes[pred])\n",
    "obj =  classes[pred]\n",
    "print(obj)\n",
    "n = random.randint(0,9)\n",
    "# print(n)\n",
    "path = f\"objects/{obj}/{obj}{n}.jpg\"\n",
    "print(path)\n",
    "img = cv2.imread(path)\n",
    "cv2.imshow('image',img)\n",
    "cv2.waitKey(0)\n",
    "cv2.destroyAllWindows()"
   ]
  },
  {
   "cell_type": "code",
   "execution_count": null,
   "id": "6ee367ef",
   "metadata": {},
   "outputs": [],
   "source": []
  },
  {
   "cell_type": "code",
   "execution_count": null,
   "id": "3b4cae45",
   "metadata": {},
   "outputs": [],
   "source": []
  }
 ],
 "metadata": {
  "kernelspec": {
   "display_name": "Python 3 (ipykernel)",
   "language": "python",
   "name": "python3"
  },
  "language_info": {
   "codemirror_mode": {
    "name": "ipython",
    "version": 3
   },
   "file_extension": ".py",
   "mimetype": "text/x-python",
   "name": "python",
   "nbconvert_exporter": "python",
   "pygments_lexer": "ipython3",
   "version": "3.9.7"
  }
 },
 "nbformat": 4,
 "nbformat_minor": 5
}
